{
 "cells": [
  {
   "cell_type": "code",
   "execution_count": 45,
   "id": "fe663371-b929-431e-a46c-e5a00448f756",
   "metadata": {},
   "outputs": [],
   "source": [
    "%%capture\n",
    "#pip install scipy"
   ]
  },
  {
   "cell_type": "code",
   "execution_count": 72,
   "id": "cbadb455-6df4-4803-91be-12dc937fabb7",
   "metadata": {},
   "outputs": [],
   "source": [
    "import pandas as pd\n",
    "import matplotlib.pyplot as plt\n",
    "from scipy import stats"
   ]
  },
  {
   "cell_type": "markdown",
   "id": "ff098d2b-878a-418c-95b2-ae52898627f5",
   "metadata": {},
   "source": [
    "## Dataset\n",
    "\n",
    "This dataset contains data from 90189 players playing the testing version of the application. Dataset contains these columns:\n",
    "- **userid** - a unique number identifying player\n",
    "- **version** - version of the app (either gate_30 or gate_40)\n",
    "- **sum_gamerounds** - number of rounds played during the first 14 days\n",
    "- **retention_1** - check if the player returned and played the game 1 day after installation\n",
    "- **retention_7** - check if the player returned and played the game 7 day after installation\n"
   ]
  },
  {
   "cell_type": "code",
   "execution_count": 74,
   "id": "dec2b632-e774-4e4c-bc77-8319afbba51b",
   "metadata": {},
   "outputs": [
    {
     "name": "stdout",
     "output_type": "stream",
     "text": [
      "<class 'pandas.core.frame.DataFrame'>\n",
      "RangeIndex: 90189 entries, 0 to 90188\n",
      "Data columns (total 5 columns):\n",
      " #   Column          Non-Null Count  Dtype \n",
      "---  ------          --------------  ----- \n",
      " 0   userid          90189 non-null  int64 \n",
      " 1   version         90189 non-null  object\n",
      " 2   sum_gamerounds  90189 non-null  int64 \n",
      " 3   retention_1     90189 non-null  bool  \n",
      " 4   retention_7     90189 non-null  bool  \n",
      "dtypes: bool(2), int64(2), object(1)\n",
      "memory usage: 2.2+ MB\n"
     ]
    }
   ],
   "source": [
    "df = pd.read_csv(\"cookie_cats_ab_test/cookie_cats.csv\")\n",
    "df.info()"
   ]
  },
  {
   "cell_type": "code",
   "execution_count": 12,
   "id": "4a44d144-ed7e-4e64-994a-791c6cf1345f",
   "metadata": {},
   "outputs": [
    {
     "data": {
      "text/html": [
       "<div>\n",
       "<style scoped>\n",
       "    .dataframe tbody tr th:only-of-type {\n",
       "        vertical-align: middle;\n",
       "    }\n",
       "\n",
       "    .dataframe tbody tr th {\n",
       "        vertical-align: top;\n",
       "    }\n",
       "\n",
       "    .dataframe thead th {\n",
       "        text-align: right;\n",
       "    }\n",
       "</style>\n",
       "<table border=\"1\" class=\"dataframe\">\n",
       "  <thead>\n",
       "    <tr style=\"text-align: right;\">\n",
       "      <th></th>\n",
       "      <th>userid</th>\n",
       "    </tr>\n",
       "    <tr>\n",
       "      <th>version</th>\n",
       "      <th></th>\n",
       "    </tr>\n",
       "  </thead>\n",
       "  <tbody>\n",
       "    <tr>\n",
       "      <th>gate_30</th>\n",
       "      <td>44700</td>\n",
       "    </tr>\n",
       "    <tr>\n",
       "      <th>gate_40</th>\n",
       "      <td>45489</td>\n",
       "    </tr>\n",
       "  </tbody>\n",
       "</table>\n",
       "</div>"
      ],
      "text/plain": [
       "         userid\n",
       "version        \n",
       "gate_30   44700\n",
       "gate_40   45489"
      ]
     },
     "execution_count": 12,
     "metadata": {},
     "output_type": "execute_result"
    }
   ],
   "source": [
    "df.groupby(\"version\")[[\"userid\"]].nunique()"
   ]
  },
  {
   "cell_type": "code",
   "execution_count": 19,
   "id": "3c428425-7020-431b-b6b4-e26712750dbf",
   "metadata": {},
   "outputs": [
    {
     "data": {
      "image/png": "[encoded data removed]",
      "text/plain": [
       "<Figure size 432x288 with 1 Axes>"
      ]
     },
     "metadata": {
      "needs_background": "light"
     },
     "output_type": "display_data"
    }
   ],
   "source": [
    "plot = df.groupby(\"sum_gamerounds\")[\"userid\"].count()\n",
    "data = plot.head(100).plot()\n",
    "plt.title(\"Players distribution\")\n",
    "plt.xlabel(\"Number of rounds played\")\n",
    "plt.ylabel(\"Number of players\")\n",
    "plt.show()"
   ]
  },
  {
   "cell_type": "code",
   "execution_count": 70,
   "id": "6448b22f-076c-43ef-827a-16f5a543509e",
   "metadata": {},
   "outputs": [
    {
     "name": "stdout",
     "output_type": "stream",
     "text": [
      "Number of players that had the game installed but never played it: 3994 which is about 4.43%\n",
      "Number of players that had the game installed and played 10 or less rounds: 35989 which is about 39.9%\n"
     ]
    }
   ],
   "source": [
    "never_played = df[df[\"sum_gamerounds\"] == 0][\"userid\"].count()\n",
    "never_played_perc = (never_played/df[\"userid\"].count())*100\n",
    "less_than_ten_played = df[df[\"sum_gamerounds\"] <= 10][\"userid\"].count()\n",
    "less_than_ten_played_perc = (less_than_ten_played/df[\"userid\"].count())*100\n",
    "print(f\"Number of players that had the game installed but never played it: {never_played} which is about {round(never_played_perc, 2)}%\")\n",
    "print(f\"Number of players that had the game installed and played 10 or less rounds: {less_than_ten_played} which is about {round(less_than_ten_played_perc, 2)}%\")"
   ]
  },
  {
   "cell_type": "markdown",
   "id": "8c27ff07-27b2-467d-bcd7-62822295a7fb",
   "metadata": {},
   "source": [
    "Lets calculate the mean of the 1-day and 7-day retention"
   ]
  },
  {
   "cell_type": "code",
   "execution_count": 29,
   "id": "097d0e9a-b5c9-4af4-8b87-1a1444b536e6",
   "metadata": {},
   "outputs": [
    {
     "name": "stdout",
     "output_type": "stream",
     "text": [
      "1-day retention: 44.52%\n",
      "7-day retention: 18.61%\n"
     ]
    }
   ],
   "source": [
    "one_day_ret = df[\"retention_1\"].mean()\n",
    "seven_day_ret = df[\"retention_7\"].mean()\n",
    "\n",
    "print(f\"1-day retention: {round(one_day_ret*100,2)}%\")\n",
    "print(f\"7-day retention: {round(seven_day_ret*100,2)}%\")"
   ]
  },
  {
   "cell_type": "markdown",
   "id": "e297ea90-cdac-4d39-9e24-015640e9e346",
   "metadata": {},
   "source": [
    "This means that less than half of the players came back and played the game one day after the installation and about 18% of the players came back after 7 days. <br>\n",
    "We can also calculate the retentions for each testing group."
   ]
  },
  {
   "cell_type": "code",
   "execution_count": 34,
   "id": "faa35fb5-1190-450c-9580-9d944e0cc50b",
   "metadata": {},
   "outputs": [
    {
     "data": {
      "text/html": [
       "<div>\n",
       "<style scoped>\n",
       "    .dataframe tbody tr th:only-of-type {\n",
       "        vertical-align: middle;\n",
       "    }\n",
       "\n",
       "    .dataframe tbody tr th {\n",
       "        vertical-align: top;\n",
       "    }\n",
       "\n",
       "    .dataframe thead th {\n",
       "        text-align: right;\n",
       "    }\n",
       "</style>\n",
       "<table border=\"1\" class=\"dataframe\">\n",
       "  <thead>\n",
       "    <tr style=\"text-align: right;\">\n",
       "      <th></th>\n",
       "      <th>userid</th>\n",
       "      <th>retention_1</th>\n",
       "      <th>retention_7</th>\n",
       "    </tr>\n",
       "    <tr>\n",
       "      <th>version</th>\n",
       "      <th></th>\n",
       "      <th></th>\n",
       "      <th></th>\n",
       "    </tr>\n",
       "  </thead>\n",
       "  <tbody>\n",
       "    <tr>\n",
       "      <th>gate_30</th>\n",
       "      <td>44700</td>\n",
       "      <td>0.448188</td>\n",
       "      <td>0.190201</td>\n",
       "    </tr>\n",
       "    <tr>\n",
       "      <th>gate_40</th>\n",
       "      <td>45489</td>\n",
       "      <td>0.442283</td>\n",
       "      <td>0.182000</td>\n",
       "    </tr>\n",
       "  </tbody>\n",
       "</table>\n",
       "</div>"
      ],
      "text/plain": [
       "         userid  retention_1  retention_7\n",
       "version                                  \n",
       "gate_30   44700     0.448188     0.190201\n",
       "gate_40   45489     0.442283     0.182000"
      ]
     },
     "execution_count": 34,
     "metadata": {},
     "output_type": "execute_result"
    }
   ],
   "source": [
    "df_retention_groups = df.groupby(\"version\").agg({\"userid\":\"count\", \"retention_1\":\"mean\",\"retention_7\":\"mean\"})\n",
    "df_retention_groups"
   ]
  },
  {
   "cell_type": "markdown",
   "id": "5984da38-acc3-423c-8eec-3f023339fc71",
   "metadata": {},
   "source": [
    "There is a very small increase in the group with gate at level 30 compared to gate at 40 in both 1 day and 7 day retentions"
   ]
  },
  {
   "cell_type": "markdown",
   "id": "4fc55898-6efd-4b14-9694-7fc878590503",
   "metadata": {},
   "source": [
    "### Chi-squared test for AB testing\n",
    "Thanks to the previous observations we can create null and alternative hypothesis.<br>\n",
    "**H_0** - The retention rate is same for both versions.<br>\n",
    "**H_1** - The retention rate is higher for the gate at level 30"
   ]
  },
  {
   "cell_type": "code",
   "execution_count": 41,
   "id": "9b4026f6-4d51-43ad-8f69-be6cca206ba1",
   "metadata": {},
   "outputs": [
    {
     "data": {
      "text/html": [
       "<div>\n",
       "<style scoped>\n",
       "    .dataframe tbody tr th:only-of-type {\n",
       "        vertical-align: middle;\n",
       "    }\n",
       "\n",
       "    .dataframe tbody tr th {\n",
       "        vertical-align: top;\n",
       "    }\n",
       "\n",
       "    .dataframe thead th {\n",
       "        text-align: right;\n",
       "    }\n",
       "</style>\n",
       "<table border=\"1\" class=\"dataframe\">\n",
       "  <thead>\n",
       "    <tr style=\"text-align: right;\">\n",
       "      <th></th>\n",
       "      <th>version</th>\n",
       "      <th>ret_1</th>\n",
       "      <th>notret_1</th>\n",
       "      <th>ret_7</th>\n",
       "      <th>notret_7</th>\n",
       "    </tr>\n",
       "  </thead>\n",
       "  <tbody>\n",
       "    <tr>\n",
       "      <th>0</th>\n",
       "      <td>gate_30</td>\n",
       "      <td>20034</td>\n",
       "      <td>24666</td>\n",
       "      <td>8502</td>\n",
       "      <td>36198</td>\n",
       "    </tr>\n",
       "    <tr>\n",
       "      <th>1</th>\n",
       "      <td>gate_40</td>\n",
       "      <td>20119</td>\n",
       "      <td>25370</td>\n",
       "      <td>8279</td>\n",
       "      <td>37210</td>\n",
       "    </tr>\n",
       "  </tbody>\n",
       "</table>\n",
       "</div>"
      ],
      "text/plain": [
       "   version  ret_1  notret_1  ret_7  notret_7\n",
       "0  gate_30  20034     24666   8502     36198\n",
       "1  gate_40  20119     25370   8279     37210"
      ]
     },
     "execution_count": 41,
     "metadata": {},
     "output_type": "execute_result"
    }
   ],
   "source": [
    "df_chi = pd.DataFrame(data={\"version\" : [\"gate_30\", \"gate_40\"]})\n",
    "df_chi[\"ret_1\"] = df[df.retention_1==True].groupby(by=\"version\").count()[\"retention_1\"].values\n",
    "df_chi[\"notret_1\"] = df[df.retention_1==False].groupby(by=\"version\").count()[\"retention_1\"].values\n",
    "df_chi[\"ret_7\"] = df[df.retention_7==True].groupby(by=\"version\").count()[\"retention_7\"].values\n",
    "df_chi[\"notret_7\"] = df[df.retention_7==False].groupby(by=\"version\").count()[\"retention_7\"].values\n",
    "df_chi"
   ]
  },
  {
   "cell_type": "markdown",
   "id": "431674a8-d81d-4fa0-9f4b-6c8f9fe77512",
   "metadata": {},
   "source": [
    "Calculate the chi-squared statistic and p-value of each group"
   ]
  },
  {
   "cell_type": "code",
   "execution_count": 59,
   "id": "8905e2b4-ea87-4c70-8949-b9997fbb05c9",
   "metadata": {},
   "outputs": [
    {
     "name": "stdout",
     "output_type": "stream",
     "text": [
      "One day retention:\n",
      "Chi-squared test: 3.1591007878782262\n",
      "p-value: 0.07550476210309086\n",
      "\n",
      "Seven day retention:\n",
      "Chi-squared test: 9.959086799559165\n",
      "p-value: 0.0016005742679058301\n"
     ]
    }
   ],
   "source": [
    "chi_ret1 = stats.chi2_contingency(df_chi[[\"ret_1\",\"notret_1\"]])\n",
    "chi_ret7 = stats.chi2_contingency(df_chi[[\"ret_7\",\"notret_7\"]])\n",
    "print(f\"One day retention:\\nChi-squared test: {chi_ret1[0]}\\np-value: {chi_ret1[1]}\\n\")\n",
    "print(f\"Seven day retention:\\nChi-squared test: {chi_ret7[0]}\\np-value: {chi_ret7[1]}\")"
   ]
  },
  {
   "cell_type": "markdown",
   "id": "9eb677ed-a91f-472d-8824-c6d39b6148f1",
   "metadata": {},
   "source": [
    "# <u>Conclusion"
   ]
  },
  {
   "cell_type": "markdown",
   "id": "094a694f-0709-4b37-a896-df57236ffe23",
   "metadata": {},
   "source": [
    "- There was a small decrease in one day retention when the gate was moved from level 30 to level 40 (44.8% -> 44,2%)\n",
    "- According to chi-squared test there was no difference in rates between the two versions at the 5% significance level. We do not reject our H_0 hypothesis.\n",
    "- There was a small decrease in seven day retention when the gate was moved from level 30 to level 40 (19% -> 18,2%)\n",
    "- According to chi-squared test there was significant difference in rates between the two versions even at the 1% significance level. We reject our H_0 hypothesis and accept H_1 hypothesis."
   ]
  },
  {
   "cell_type": "markdown",
   "id": "7fd98fd7-a5b3-442f-a4ee-8209677aa771",
   "metadata": {},
   "source": [
    "Thanks to chi-square test we gathered enought evidence that 7-day retention is higher when the first gate is at level 30 than when it is at level 40.<br>\n",
    "The gate should not be moved to level 40 and should be kept at level 30."
   ]
  },
  {
   "cell_type": "code",
   "execution_count": null,
   "id": "19ee4ea9-2e48-4626-b286-833026262a47",
   "metadata": {},
   "outputs": [],
   "source": []
  }
 ],
 "metadata": {
  "kernelspec": {
   "display_name": "Python 3 (ipykernel)",
   "language": "python",
   "name": "python3"
  },
  "language_info": {
   "codemirror_mode": {
    "name": "ipython",
    "version": 3
   },
   "file_extension": ".py",
   "mimetype": "text/x-python",
   "name": "python",
   "nbconvert_exporter": "python",
   "pygments_lexer": "ipython3",
   "version": "3.10.5"
  }
 },
 "nbformat": 4,
 "nbformat_minor": 5
}
